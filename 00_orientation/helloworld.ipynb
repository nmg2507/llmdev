{
 "cells": [
  {
   "cell_type": "code",
   "execution_count": 1,
   "id": "63133b10",
   "metadata": {},
   "outputs": [
    {
     "name": "stdout",
     "output_type": "stream",
     "text": [
      "Hello!World\n"
     ]
    }
   ],
   "source": [
    "print(\"Hello!World\")\n"
   ]
  },
  {
   "cell_type": "markdown",
   "id": "4ff6a5b9",
   "metadata": {},
   "source": [
    "マークダウンで表もつくれる"
   ]
  },
  {
   "cell_type": "markdown",
   "id": "ca818685",
   "metadata": {},
   "source": [
    "| 見出し1 | 見出し2 |\n",
    "| ------- | ------- |\n",
    "| データ1 | データ2 |\n",
    "| データ3 | データ4 |"
   ]
  }
 ],
 "metadata": {
  "kernelspec": {
   "display_name": ".venv",
   "language": "python",
   "name": "python3"
  },
  "language_info": {
   "codemirror_mode": {
    "name": "ipython",
    "version": 3
   },
   "file_extension": ".py",
   "mimetype": "text/x-python",
   "name": "python",
   "nbconvert_exporter": "python",
   "pygments_lexer": "ipython3",
   "version": "3.12.10"
  }
 },
 "nbformat": 4,
 "nbformat_minor": 5
}
