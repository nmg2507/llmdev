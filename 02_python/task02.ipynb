{
 "cells": [
  {
   "cell_type": "code",
   "execution_count": 6,
   "id": "8c1e080c",
   "metadata": {},
   "outputs": [
    {
     "name": "stdout",
     "output_type": "stream",
     "text": [
      "送料は350円です\n",
      "送料込税込価格は2,000円です\n"
     ]
    }
   ],
   "source": [
    "#税込み価格を計算しよう\n",
    "tax_exclude = int(input(\"税抜価格を入力してください：\"))\n",
    "tax_include = int(tax_exclude * 1.1)\n",
    "\n",
    "if tax_include >= 2000:\n",
    "    total_price = tax_include\n",
    "    ship_text = \"無料\"\n",
    "\n",
    "else:\n",
    "    total_price = tax_include + 350\n",
    "    ship_text = \"350円\"\n",
    "\n",
    "print (f\"送料は{ship_text}です\\n送料込税込価格は{total_price:,}円です\")\n"
   ]
  }
 ],
 "metadata": {
  "kernelspec": {
   "display_name": ".venv",
   "language": "python",
   "name": "python3"
  },
  "language_info": {
   "codemirror_mode": {
    "name": "ipython",
    "version": 3
   },
   "file_extension": ".py",
   "mimetype": "text/x-python",
   "name": "python",
   "nbconvert_exporter": "python",
   "pygments_lexer": "ipython3",
   "version": "3.12.10"
  }
 },
 "nbformat": 4,
 "nbformat_minor": 5
}
