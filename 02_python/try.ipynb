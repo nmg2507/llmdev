{
 "cells": [
  {
   "cell_type": "markdown",
   "id": "b138b75f",
   "metadata": {},
   "source": [
    "#### Lesson 2　Chapter 7　基本的な例外処理の書き方"
   ]
  },
  {
   "cell_type": "markdown",
   "id": "75c9fbc4",
   "metadata": {},
   "source": [
    "try　と　except"
   ]
  },
  {
   "cell_type": "code",
   "execution_count": 2,
   "id": "9f489a87",
   "metadata": {},
   "outputs": [
    {
     "name": "stdout",
     "output_type": "stream",
     "text": [
      "エラー: 0 で割ることはできません\n"
     ]
    }
   ],
   "source": [
    "# 100 を入力数字で割る\n",
    "try:\n",
    "    # 例外が発生するかもしれない処理\n",
    "    num = int(input(\"整数を入力してください: \"))\n",
    "    result = 100 / num\n",
    "    print(f\"100 を {num} で割った結果は {result} です\")\n",
    "except ZeroDivisionError:\n",
    "    # 例外が発生した場合の処理\n",
    "    print(\"エラー: 0 で割ることはできません\")\n",
    "except ValueError:\n",
    "    print(\"エラー: 整数を入力してください\")"
   ]
  },
  {
   "cell_type": "code",
   "execution_count": null,
   "id": "2e94c9f5",
   "metadata": {},
   "outputs": [
    {
     "name": "stdout",
     "output_type": "stream",
     "text": [
      "エラー: 0 で割ることはできません\n"
     ]
    }
   ],
   "source": [
    "# Exception クラスはすべての例外の親クラス\n",
    "try:\n",
    "    num = int(input(\"整数を入力してください: \"))\n",
    "    result = 100 / num\n",
    "    print(f\"100 を {num} で割った結果は {result} です\")\n",
    "except ZeroDivisionError:\n",
    "    print(\"エラー: 0 で割ることはできません\")\n",
    "except ValueError:\n",
    "    print(\"エラー: 整数を入力してください\")\n",
    "except Exception as e:\n",
    "    # 予期しない例外をキャッチ\n",
    "    print(f\"予期しないエラーが発生しました: {e}\")"
   ]
  },
  {
   "cell_type": "markdown",
   "id": "432388a4",
   "metadata": {},
   "source": [
    "★as e とするのは、クラスExceptionの詳細(何のエラーか)を代数にキャッチできるから。"
   ]
  },
  {
   "cell_type": "code",
   "execution_count": 8,
   "id": "2d6efd09",
   "metadata": {},
   "outputs": [
    {
     "name": "stdout",
     "output_type": "stream",
     "text": [
      "処理終了\n"
     ]
    },
    {
     "ename": "TypeError",
     "evalue": "unsupported operand type(s) for /: 'str' and 'str'",
     "output_type": "error",
     "traceback": [
      "\u001b[31m---------------------------------------------------------------------------\u001b[39m",
      "\u001b[31mTypeError\u001b[39m                                 Traceback (most recent call last)",
      "\u001b[36mCell\u001b[39m\u001b[36m \u001b[39m\u001b[32mIn[8]\u001b[39m\u001b[32m, line 9\u001b[39m\n\u001b[32m      6\u001b[39m         \u001b[38;5;28;01mraise\u001b[39;00m \u001b[38;5;167;01mZeroDivisionError\u001b[39;00m(\u001b[33m\"\u001b[39m\u001b[33m警告文：0で割り算しようとしています\u001b[39m\u001b[33m\"\u001b[39m)\n\u001b[32m      7\u001b[39m         \u001b[38;5;66;03m# reise　で、実行前に例外を発生させることができる。\u001b[39;00m\n\u001b[32m      8\u001b[39m         \u001b[38;5;66;03m# エラーを避けられることが分かってから、計算\u001b[39;00m\n\u001b[32m----> \u001b[39m\u001b[32m9\u001b[39m     \u001b[38;5;28mprint\u001b[39m(\u001b[43ma\u001b[49m\u001b[43m \u001b[49m\u001b[43m/\u001b[49m\u001b[43m \u001b[49m\u001b[43mb\u001b[49m)\n\u001b[32m     10\u001b[39m \u001b[38;5;28;01mexcept\u001b[39;00m \u001b[38;5;167;01mZeroDivisionError\u001b[39;00m \u001b[38;5;28;01mas\u001b[39;00m e:\n\u001b[32m     11\u001b[39m     \u001b[38;5;28mprint\u001b[39m(e)  \u001b[38;5;66;03m# エラーメッセージを出す\u001b[39;00m\n",
      "\u001b[31mTypeError\u001b[39m: unsupported operand type(s) for /: 'str' and 'str'"
     ]
    }
   ],
   "source": [
    "# 例外の発生を明示的に指定する\n",
    "a = input(\"数値a\")\n",
    "b = input(\"数値b\")\n",
    "try:\n",
    "    if b == 0:   #割り算を行う前にチェックする\n",
    "        raise ZeroDivisionError(\"警告文：0で割り算しようとしています\")\n",
    "        # reise　で、実行前に例外を発生させることができる。\n",
    "        # エラーを避けられることが分かってから、計算\n",
    "    print(a / b)\n",
    "except ZeroDivisionError as e:\n",
    "    print(e)  # エラーメッセージを出す\n",
    "finally:\n",
    "    print(\"処理終了\") #　処理終了を伝える\n"
   ]
  }
 ],
 "metadata": {
  "kernelspec": {
   "display_name": ".venv",
   "language": "python",
   "name": "python3"
  },
  "language_info": {
   "codemirror_mode": {
    "name": "ipython",
    "version": 3
   },
   "file_extension": ".py",
   "mimetype": "text/x-python",
   "name": "python",
   "nbconvert_exporter": "python",
   "pygments_lexer": "ipython3",
   "version": "3.12.10"
  }
 },
 "nbformat": 4,
 "nbformat_minor": 5
}
