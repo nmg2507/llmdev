{
 "cells": [
  {
   "cell_type": "markdown",
   "id": "6b39160e",
   "metadata": {},
   "source": [
    "### Lesson2 - Pythonの基礎\n",
    "#### 2-3データタイプ"
   ]
  },
  {
   "cell_type": "code",
   "execution_count": 8,
   "id": "53fb18c5",
   "metadata": {},
   "outputs": [
    {
     "name": "stdout",
     "output_type": "stream",
     "text": [
      "a: 10\n",
      "b: -5\n",
      "c: 0\n",
      "合計: 5\n",
      "積: -50\n",
      "<class 'int'>\n"
     ]
    }
   ],
   "source": [
    "#整数の代入\n",
    "a = 10\n",
    "b = -5\n",
    "c = 0\n",
    "#整数同士の計算  和と積・・・　int\n",
    "sum_result = a+b\n",
    "product_result = a*b\n",
    "\n",
    "print(\"a:\", a)\n",
    "print(\"b:\", b)\n",
    "print(\"c:\", c)\n",
    "print(\"合計:\", sum_result)\n",
    "print(\"積:\", product_result)\n",
    "print(type(sum_result))\n"
   ]
  },
  {
   "cell_type": "code",
   "execution_count": 9,
   "id": "efce9757",
   "metadata": {},
   "outputs": [
    {
     "name": "stdout",
     "output_type": "stream",
     "text": [
      "除算結果: -2.0\n",
      "<class 'float'>\n",
      "整数除算結果: -2\n",
      "<class 'int'>\n"
     ]
    }
   ],
   "source": [
    "\n",
    "a = 10\n",
    "b = -5\n",
    "c = 0\n",
    "#整数同士の除算  除算結果・・・　普通に計算したらfloat\n",
    "division_result = a/b\n",
    "integer_division_result = a//b\n",
    "\n",
    "print(\"除算結果:\", division_result)\n",
    "print(type(division_result))\n",
    "print(\"整数除算結果:\", integer_division_result)\n",
    "print(type(integer_division_result))\n"
   ]
  },
  {
   "cell_type": "code",
   "execution_count": 10,
   "id": "aa592268",
   "metadata": {},
   "outputs": [
    {
     "name": "stdout",
     "output_type": "stream",
     "text": [
      "y: -0.5\n",
      "z: 2.0\n",
      "合計: 2.64\n",
      "積: -1.57\n"
     ]
    }
   ],
   "source": [
    "# 浮動小数点数の代入\n",
    "x = 3.14\n",
    "y = -0.5\n",
    "z = 2.0  # 小数点を付けると float 型になる\n",
    "\n",
    "# 浮動小数点数の計算\n",
    "sum_result = x + y  # 3.14 + (-0.5) = 2.64\n",
    "product_result = x * y  # 3.14 * (-0.5) = -1.57\n",
    "\n",
    "\n",
    "print(\"y:\", y)\n",
    "print(\"z:\", z)\n",
    "print(\"合計:\", sum_result)\n",
    "print(\"積:\", product_result)\n",
    "\n",
    "#ちなみに1. は 1.0、.5 はが 0.5 という意味"
   ]
  },
  {
   "cell_type": "code",
   "execution_count": 11,
   "id": "1ad8c557",
   "metadata": {},
   "outputs": [
    {
     "name": "stdout",
     "output_type": "stream",
     "text": [
      "0.1 + 0.2 = 0.30000000000000004\n"
     ]
    }
   ],
   "source": [
    "#　浮動小数点数は近似値であるため、計算結果にわずかな誤差を生じることがあります。\n",
    "#  浮動小数点数の誤差の例\n",
    "result = 0.1 + 0.2\n",
    "print(\"0.1 + 0.2 =\", result)"
   ]
  },
  {
   "cell_type": "markdown",
   "id": "09413474",
   "metadata": {},
   "source": [
    "このような誤差を回避するためには、decimal モジュールを使う　@Lesson4"
   ]
  },
  {
   "cell_type": "markdown",
   "id": "28b223e7",
   "metadata": {},
   "source": [
    "#### 2-3.1　数値型"
   ]
  },
  {
   "cell_type": "code",
   "execution_count": null,
   "id": "cbf2c446",
   "metadata": {},
   "outputs": [
    {
     "name": "stdout",
     "output_type": "stream",
     "text": [
      "<class 'float'>\n",
      "<class 'int'>\n",
      "5000.0\n"
     ]
    }
   ],
   "source": [
    "#整数から浮動小数点数への変換\n",
    "a = 10\n",
    "b = float(a)\n",
    "c = int(b)\n",
    "d = 5e3 #10の3乗を表す　型はfloatになる\n",
    "\n",
    "print(type(b))\n",
    "print(type(c))\n",
    "print(d)"
   ]
  },
  {
   "cell_type": "markdown",
   "id": "e4b3a268",
   "metadata": {},
   "source": [
    "#### Lesson 2Chapter 3.2　文字列型　str"
   ]
  },
  {
   "cell_type": "markdown",
   "id": "ad44701b",
   "metadata": {},
   "source": [
    "要素が順序を持って並んでいるデータ型を、シーケンス型 と呼ぶ。\n",
    "文字列型は”または’で囲う。"
   ]
  },
  {
   "cell_type": "code",
   "execution_count": 1,
   "id": "9b80ea2b",
   "metadata": {},
   "outputs": [
    {
     "name": "stdout",
     "output_type": "stream",
     "text": [
      "「'」はシングルクォートです。\n",
      "「\"」はダブルクォートです。\n",
      "<class 'str'>\n"
     ]
    }
   ],
   "source": [
    "text1 = \"「'」はシングルクォートです。\"\n",
    "text2 = '「\"」はダブルクォートです。'\n",
    "print(text1)\n",
    "print(text2)\n",
    "print(type(text1))"
   ]
  },
  {
   "cell_type": "code",
   "execution_count": 2,
   "id": "0df2ab46",
   "metadata": {},
   "outputs": [
    {
     "data": {
      "text/plain": [
       "' + 演算子: 文字列の結合\\n* 演算子: 文字列の繰り返し\\nlen() 関数: 文字列の長さ（文字数）を取得 '"
      ]
     },
     "execution_count": 2,
     "metadata": {},
     "output_type": "execute_result"
    }
   ],
   "source": [
    "\"\"\" + 演算子: 文字列の結合\n",
    "* 演算子: 文字列の繰り返し\n",
    "len() 関数: 文字列の長さ（文字数）を取得 \"\"\""
   ]
  },
  {
   "cell_type": "code",
   "execution_count": 5,
   "id": "0b02c340",
   "metadata": {},
   "outputs": [
    {
     "name": "stdout",
     "output_type": "stream",
     "text": [
      "あいうえおあいうえお\n",
      "あいうえお & あいうえお\n",
      "文字列の長さ: 6\n"
     ]
    }
   ],
   "source": [
    "#文字列の操作\n",
    "text3 = \"あいうえお\"\n",
    "text4 = text3 * 2\n",
    "print(text4)\n",
    "\n",
    "text5 = text3 +\" & \" +text3 \n",
    "print(text5)\n",
    "\n",
    "length = len(\"あいう eo\")  # スペースもカウント対象。全角・半角も同様に1文字ずつカウント。\n",
    "print(\"文字列の長さ:\", length)"
   ]
  },
  {
   "cell_type": "markdown",
   "id": "37dd8aff",
   "metadata": {},
   "source": [
    "・メソッドを使った操作　text.メソッド"
   ]
  },
  {
   "cell_type": "code",
   "execution_count": 19,
   "id": "a77e6eae",
   "metadata": {},
   "outputs": [
    {
     "name": "stdout",
     "output_type": "stream",
     "text": [
      ".upper():   AIUEO\n",
      ".lower():   aiueo\n",
      ".replace():   Apple\n",
      ".strip():   'あい　ueo'\n",
      ".find():   6\n"
     ]
    }
   ],
   "source": [
    "text = \"Aiueo\"\n",
    "text2 = \"　　'あい　ueo'　　\"\n",
    "\n",
    "#大文字小文字\n",
    "print(\".upper():  \",text.upper())\n",
    "print(\".lower():  \",text.lower())\n",
    "print(\".replace():  \",text.replace(\"iueo\",\"pple\")) #置き換え\n",
    "print(\".strip():  \",text2.strip()) #前後の空白を除く\n",
    "print(\".find():  \",text2.find(\"ue\")) #部分文字列の最初の位置を検索\n",
    "                                     #見つからないと-1を返す"
   ]
  },
  {
   "cell_type": "markdown",
   "id": "322f67b1",
   "metadata": {},
   "source": [
    "エスケープシーケンス、ヒアドキュメント  \n",
    "バックスラッシュ　\\　、3つのクォート\"\"\" を使う"
   ]
  },
  {
   "cell_type": "code",
   "execution_count": 43,
   "id": "9d5126e9",
   "metadata": {},
   "outputs": [
    {
     "name": "stdout",
     "output_type": "stream",
     "text": [
      "エスケープを\n",
      "使う（改行）\n",
      "\n",
      "このトリプルクォートで囲った文章は、改行も文字列として認識されます。\n",
      "クォート「'」も文字として認識されます。\n"
     ]
    }
   ],
   "source": [
    "print(\"エスケープを\\n使う（改行）\\n\") \n",
    "print(\"\"\"このトリプルクォートで囲った文章は、改行も文字列として認識されます。\n",
    "クォート「'」も文字として認識されます。\"\"\")"
   ]
  }
 ],
 "metadata": {
  "kernelspec": {
   "display_name": ".venv",
   "language": "python",
   "name": "python3"
  },
  "language_info": {
   "codemirror_mode": {
    "name": "ipython",
    "version": 3
   },
   "file_extension": ".py",
   "mimetype": "text/x-python",
   "name": "python",
   "nbconvert_exporter": "python",
   "pygments_lexer": "ipython3",
   "version": "3.12.10"
  }
 },
 "nbformat": 4,
 "nbformat_minor": 5
}
