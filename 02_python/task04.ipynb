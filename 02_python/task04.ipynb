{
 "cells": [
  {
   "cell_type": "code",
   "execution_count": 9,
   "id": "8674d3f7",
   "metadata": {},
   "outputs": [
    {
     "name": "stdout",
     "output_type": "stream",
     "text": [
      "エラー: 整数を入力してください: \n",
      "invalid literal for int() with base 10: 'ｂ'\n",
      "処理を終了します\n"
     ]
    }
   ],
   "source": [
    "# 数値計算の例外処理を行おう\n",
    "try:\n",
    "    a = int(input(\"1つ目の整数 a を入れてください：\"))\n",
    "    b = int(input(\"2つ目の整数 b を入れてください：\"))\n",
    "    print(f\"計算結果：{ a/b }\")\n",
    "except ValueError as e:\n",
    "    print(f\"エラー: 整数を入力してください: \\n{e}\")\n",
    "except ZeroDivisionError as e:\n",
    "    print(f\"エラー: 0で割ることはできません: \\n{e}\")\n",
    "except Exception as e:   # 予期しない例外も一応想定\n",
    "    print(f\"予期しないエラーが発生しました: {e}\")\n",
    "finally:\n",
    "    print(\"処理を終了します\") "
   ]
  }
 ],
 "metadata": {
  "kernelspec": {
   "display_name": ".venv",
   "language": "python",
   "name": "python3"
  },
  "language_info": {
   "codemirror_mode": {
    "name": "ipython",
    "version": 3
   },
   "file_extension": ".py",
   "mimetype": "text/x-python",
   "name": "python",
   "nbconvert_exporter": "python",
   "pygments_lexer": "ipython3",
   "version": "3.12.10"
  }
 },
 "nbformat": 4,
 "nbformat_minor": 5
}
