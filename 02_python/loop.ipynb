{
 "cells": [
  {
   "cell_type": "markdown",
   "id": "2005dfce",
   "metadata": {},
   "source": [
    "#### Lesson 2　Chapter 6　繰り返し\n",
    "～　 for文 や while文"
   ]
  },
  {
   "cell_type": "code",
   "execution_count": 4,
   "id": "8fdcc6ea",
   "metadata": {},
   "outputs": [
    {
     "name": "stdout",
     "output_type": "stream",
     "text": [
      "0\n",
      "1\n",
      "2\n",
      "3\n"
     ]
    }
   ],
   "source": [
    "# for文\n",
    "\n",
    "for i in range(4):\n",
    "    print(i)"
   ]
  },
  {
   "cell_type": "code",
   "execution_count": 11,
   "id": "76e67b28",
   "metadata": {},
   "outputs": [
    {
     "name": "stdout",
     "output_type": "stream",
     "text": [
      "4\n",
      "6\n",
      "8\n"
     ]
    }
   ],
   "source": [
    "for j in range(4,10,2):    #　range(開始, 終了※その数字は含まず, ステップ) \n",
    "    print(j)"
   ]
  },
  {
   "cell_type": "code",
   "execution_count": null,
   "id": "0735e543",
   "metadata": {},
   "outputs": [
    {
     "name": "stdout",
     "output_type": "stream",
     "text": [
      "1\n",
      "2\n",
      "3\n",
      "4\n",
      "5\n",
      "処理を終了します\n"
     ]
    }
   ],
   "source": [
    "# while文　　指定した条件が True である限り繰り返す\n",
    "\n",
    "i = 0\n",
    "while i < 5:  \n",
    "    i += 1\n",
    "    print(i)\n",
    "\n",
    "print(\"処理を終了します\")"
   ]
  },
  {
   "cell_type": "code",
   "execution_count": null,
   "id": "20b9621b",
   "metadata": {},
   "outputs": [
    {
     "name": "stdout",
     "output_type": "stream",
     "text": [
      "1\n",
      "2\n",
      "3\n",
      "4\n",
      "5\n",
      "処理を終了します\n"
     ]
    }
   ],
   "source": [
    "#これらを制御する  break(繰り返しの次へ抜ける), continue（初めに戻る）\n",
    "i = 0\n",
    "while True:  \n",
    "    i += 1\n",
    "    if i > 5:     # iが6になったときにbreak実行する\n",
    "        break     #ここで次の行へ進まず、ループの次へ抜ける\n",
    "    print(i)\n",
    "print(\"処理を終了します\")"
   ]
  },
  {
   "cell_type": "code",
   "execution_count": null,
   "id": "59e99abd",
   "metadata": {},
   "outputs": [
    {
     "name": "stdout",
     "output_type": "stream",
     "text": [
      "2\n",
      "4\n",
      "処理終了\n"
     ]
    }
   ],
   "source": [
    "# continue　はループの初めに戻る。それを使って\n",
    "# 偶数だけを表示させるプログラム\n",
    "\n",
    "i = 0\n",
    "while True:    #True,Falseは頭文字大文字で\n",
    "    i += 1\n",
    "    if i > 5:   # i が5になったら中断して”処理終了”を書き出し\n",
    "        break\n",
    "    if i%2 == 1:   # 2で割った余りが１＝奇数　を表現\n",
    "        continue   #奇数だったら次に進まず、ループの最初に戻る=printさせない\n",
    "    print (i)\n",
    "print(\"処理終了\")"
   ]
  }
 ],
 "metadata": {
  "kernelspec": {
   "display_name": ".venv",
   "language": "python",
   "name": "python3"
  },
  "language_info": {
   "codemirror_mode": {
    "name": "ipython",
    "version": 3
   },
   "file_extension": ".py",
   "mimetype": "text/x-python",
   "name": "python",
   "nbconvert_exporter": "python",
   "pygments_lexer": "ipython3",
   "version": "3.12.10"
  }
 },
 "nbformat": 4,
 "nbformat_minor": 5
}
