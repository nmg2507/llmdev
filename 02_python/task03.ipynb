{
 "cells": [
  {
   "cell_type": "code",
   "execution_count": 2,
   "id": "9f7e8cc2",
   "metadata": {},
   "outputs": [
    {
     "name": "stdout",
     "output_type": "stream",
     "text": [
      "10年後の金額：1,628.89\n"
     ]
    }
   ],
   "source": [
    "# 10年後の金額を複利で予測するプログラム\n",
    "investment = int(input(\"元金を入力してください:\")) \n",
    "welfare = int(input(\"年利（%）を入力してください:\"))\n",
    "\n",
    "i = 0\n",
    "while i < 10:\n",
    "    i += 1\n",
    "    investment = investment * (1 + welfare / 100)\n",
    "\n",
    "print(f\"10年後の金額：{investment:,.2f}\")\n",
    "# floatで長々出てきますが、課題の答えと見た目を同じにするため\n",
    "# 書式で小数第二位までにしています"
   ]
  }
 ],
 "metadata": {
  "kernelspec": {
   "display_name": ".venv",
   "language": "python",
   "name": "python3"
  },
  "language_info": {
   "codemirror_mode": {
    "name": "ipython",
    "version": 3
   },
   "file_extension": ".py",
   "mimetype": "text/x-python",
   "name": "python",
   "nbconvert_exporter": "python",
   "pygments_lexer": "ipython3",
   "version": "3.12.10"
  }
 },
 "nbformat": 4,
 "nbformat_minor": 5
}
